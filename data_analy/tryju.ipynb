{
 "cells": [
  {
   "cell_type": "markdown",
   "metadata": {},
   "source": [
    "vscode输出数据不是很方便，考虑之后的数据处理以及机器学习，使用jupyter方便些"
   ]
  },
  {
   "cell_type": "markdown",
   "metadata": {},
   "source": [
    "数据离散化、面元划分"
   ]
  },
  {
   "cell_type": "code",
   "execution_count": 57,
   "metadata": {},
   "outputs": [],
   "source": [
    "import numpy as np\n",
    "import pandas as pd\n",
    "import re"
   ]
  },
  {
   "cell_type": "code",
   "execution_count": null,
   "metadata": {},
   "outputs": [],
   "source": [
    "ages = np.random.randint(10,60,size=(10))\n",
    "ages"
   ]
  },
  {
   "cell_type": "code",
   "execution_count": null,
   "metadata": {},
   "outputs": [],
   "source": [
    "#面元 bin\n",
    "bins = [10,25,35,40,60]"
   ]
  },
  {
   "cell_type": "code",
   "execution_count": null,
   "metadata": {},
   "outputs": [],
   "source": [
    "cats = pd.cut(ages,bins)\n",
    "cats.codes #进行划分"
   ]
  },
  {
   "cell_type": "code",
   "execution_count": null,
   "metadata": {},
   "outputs": [],
   "source": [
    "cats.categories"
   ]
  },
  {
   "cell_type": "code",
   "execution_count": null,
   "metadata": {},
   "outputs": [],
   "source": [
    "pd.value_counts(cats)"
   ]
  },
  {
   "cell_type": "code",
   "execution_count": null,
   "metadata": {},
   "outputs": [],
   "source": [
    "pd.cut(ages,[10,25,35,40,60],right=False)"
   ]
  },
  {
   "cell_type": "code",
   "execution_count": null,
   "metadata": {},
   "outputs": [],
   "source": [
    "bins = [10,25,35,40,60]\n",
    "kind = ['青少年','青年','中年','中老年']\n",
    "pd.cut(ages,bins,labels=kind) #给每个阶段贴标签kind"
   ]
  },
  {
   "cell_type": "code",
   "execution_count": null,
   "metadata": {},
   "outputs": [],
   "source": [
    "data = np.random.rand(20)\n",
    "pd.cut(data,4,precision=2) #分成4份，小数保留2位"
   ]
  },
  {
   "cell_type": "code",
   "execution_count": null,
   "metadata": {},
   "outputs": [],
   "source": [
    "#qcut 适用量划分\n",
    "data = np.random.randn(1000)\n",
    "cats = pd.qcut(data,4) #使用qcut划分 默认等比例 即等4份\n",
    "pd.value_counts(cats) #查看每组数量"
   ]
  },
  {
   "cell_type": "code",
   "execution_count": null,
   "metadata": {},
   "outputs": [],
   "source": [
    "cats = pd.qcut(data,[0,0.1,0.5,0.9]) #按照区间比列划分数量\n",
    "pd.value_counts(cats)"
   ]
  },
  {
   "cell_type": "code",
   "execution_count": null,
   "metadata": {},
   "outputs": [],
   "source": [
    "data = pd.DataFrame(np.random.random(20).reshape(5,4))\n",
    "data"
   ]
  },
  {
   "cell_type": "code",
   "execution_count": null,
   "metadata": {},
   "outputs": [],
   "source": [
    "sam = np.random.permutation(5) #新顺序\n",
    "sam"
   ]
  },
  {
   "cell_type": "code",
   "execution_count": null,
   "metadata": {},
   "outputs": [],
   "source": [
    "data.take(sam)"
   ]
  },
  {
   "cell_type": "code",
   "execution_count": null,
   "metadata": {},
   "outputs": [],
   "source": [
    "data.sample(3) #随机选择3行"
   ]
  },
  {
   "cell_type": "code",
   "execution_count": null,
   "metadata": {},
   "outputs": [],
   "source": [
    "ch = pd.Series([5,7,6,3,2])\n",
    "ch"
   ]
  },
  {
   "cell_type": "code",
   "execution_count": null,
   "metadata": {},
   "outputs": [],
   "source": [
    "ch.sample(n=10,replace=True) #从ch随机选择10个，可以重复选择\n"
   ]
  },
  {
   "cell_type": "markdown",
   "metadata": {},
   "source": [
    "字符串对象方法"
   ]
  },
  {
   "cell_type": "code",
   "execution_count": null,
   "metadata": {},
   "outputs": [],
   "source": [
    "var = 'a,b, c'\n",
    "var.split(',') #逗号分隔"
   ]
  },
  {
   "cell_type": "code",
   "execution_count": null,
   "metadata": {},
   "outputs": [],
   "source": [
    "p = [x.strip() for x in var.split(',')] #   去除空白符，包括\\n\n",
    "p"
   ]
  },
  {
   "cell_type": "code",
   "execution_count": null,
   "metadata": {},
   "outputs": [],
   "source": [
    "'::'.join(p) #使用：：拼接\n",
    "var.replace(',','::')"
   ]
  },
  {
   "cell_type": "code",
   "execution_count": 41,
   "metadata": {},
   "outputs": [
    {
     "data": {
      "text/plain": [
       "2"
      ]
     },
     "execution_count": 41,
     "metadata": {},
     "output_type": "execute_result"
    }
   ],
   "source": [
    "#寻找index\n",
    "var.find('a')#不存在时返回-1\n",
    "var.index('b')#不存在时报错"
   ]
  },
  {
   "cell_type": "code",
   "execution_count": 43,
   "metadata": {},
   "outputs": [
    {
     "data": {
      "text/plain": [
       "['foo', 'bar', 'bat', 'gg']"
      ]
     },
     "execution_count": 43,
     "metadata": {},
     "output_type": "execute_result"
    }
   ],
   "source": [
    "text = \"foo bar\\t bat \\tgg\"\n",
    "re.split('\\s+',text) #以空白或者制表符\\t当作分隔符"
   ]
  },
  {
   "cell_type": "code",
   "execution_count": 45,
   "metadata": {},
   "outputs": [
    {
     "data": {
      "text/plain": [
       "['foo', 'bar', 'bat', 'gg']"
      ]
     },
     "execution_count": 45,
     "metadata": {},
     "output_type": "execute_result"
    }
   ],
   "source": [
    "res = re.compile('\\s+') #res能够编译\\s+\n",
    "res.split(text) #用res的编译能力分割text"
   ]
  },
  {
   "cell_type": "code",
   "execution_count": 46,
   "metadata": {},
   "outputs": [
    {
     "data": {
      "text/plain": [
       "['foo', 'bar', 'bat', 'gg']"
      ]
     },
     "execution_count": 46,
     "metadata": {},
     "output_type": "execute_result"
    }
   ],
   "source": [
    "re.split(res,text) #利用res作为分隔条件来分割text 和上一个cell效果一样"
   ]
  },
  {
   "cell_type": "code",
   "execution_count": 47,
   "metadata": {},
   "outputs": [
    {
     "data": {
      "text/plain": [
       "[' ', '\\t ', ' \\t']"
      ]
     },
     "execution_count": 47,
     "metadata": {},
     "output_type": "execute_result"
    }
   ],
   "source": [
    "res.findall(text)\n",
    "re.findall(res,text) #效果一样"
   ]
  },
  {
   "cell_type": "code",
   "execution_count": 54,
   "metadata": {},
   "outputs": [
    {
     "data": {
      "text/plain": [
       "'foo9bar9bat9gg'"
      ]
     },
     "execution_count": 54,
     "metadata": {},
     "output_type": "execute_result"
    }
   ],
   "source": [
    "re.sub(res,'9',text)#在text中替换符合res的值为9"
   ]
  },
  {
   "cell_type": "code",
   "execution_count": 53,
   "metadata": {},
   "outputs": [
    {
     "data": {
      "text/plain": [
       "'foo bar\\t bat \\tgg'"
      ]
     },
     "execution_count": 53,
     "metadata": {},
     "output_type": "execute_result"
    }
   ],
   "source": [
    "text.replace('\\s+','9')#这种方法不能编译\\s+"
   ]
  },
  {
   "cell_type": "code",
   "execution_count": 136,
   "metadata": {},
   "outputs": [
    {
     "data": {
      "text/html": [
       "<div>\n",
       "<style scoped>\n",
       "    .dataframe tbody tr th:only-of-type {\n",
       "        vertical-align: middle;\n",
       "    }\n",
       "\n",
       "    .dataframe tbody tr th {\n",
       "        vertical-align: top;\n",
       "    }\n",
       "\n",
       "    .dataframe thead th {\n",
       "        text-align: right;\n",
       "    }\n",
       "</style>\n",
       "<table border=\"1\" class=\"dataframe\">\n",
       "  <thead>\n",
       "    <tr style=\"text-align: right;\">\n",
       "      <th></th>\n",
       "      <th>0</th>\n",
       "      <th>1</th>\n",
       "      <th>2</th>\n",
       "      <th>3</th>\n",
       "      <th>4</th>\n",
       "    </tr>\n",
       "  </thead>\n",
       "  <tbody>\n",
       "    <tr>\n",
       "      <th>0</th>\n",
       "      <td>-0.759812</td>\n",
       "      <td>0.102513</td>\n",
       "      <td>0.724094</td>\n",
       "      <td>2.249054</td>\n",
       "      <td>-1.810513</td>\n",
       "    </tr>\n",
       "    <tr>\n",
       "      <th>1</th>\n",
       "      <td>0.650468</td>\n",
       "      <td>0.239158</td>\n",
       "      <td>-1.002448</td>\n",
       "      <td>-0.725793</td>\n",
       "      <td>0.047743</td>\n",
       "    </tr>\n",
       "    <tr>\n",
       "      <th>2</th>\n",
       "      <td>0.064070</td>\n",
       "      <td>-0.702113</td>\n",
       "      <td>-1.085077</td>\n",
       "      <td>2.952682</td>\n",
       "      <td>-0.080834</td>\n",
       "    </tr>\n",
       "    <tr>\n",
       "      <th>3</th>\n",
       "      <td>-0.625974</td>\n",
       "      <td>-0.235528</td>\n",
       "      <td>-0.926395</td>\n",
       "      <td>-0.680645</td>\n",
       "      <td>-0.026904</td>\n",
       "    </tr>\n",
       "    <tr>\n",
       "      <th>5</th>\n",
       "      <td>-1.160660</td>\n",
       "      <td>NaN</td>\n",
       "      <td>0.315040</td>\n",
       "      <td>-0.965889</td>\n",
       "      <td>0.004573</td>\n",
       "    </tr>\n",
       "    <tr>\n",
       "      <th>6</th>\n",
       "      <td>1.289678</td>\n",
       "      <td>-1.349608</td>\n",
       "      <td>0.855155</td>\n",
       "      <td>NaN</td>\n",
       "      <td>-1.164714</td>\n",
       "    </tr>\n",
       "    <tr>\n",
       "      <th>7</th>\n",
       "      <td>0.848364</td>\n",
       "      <td>-0.157625</td>\n",
       "      <td>-1.285718</td>\n",
       "      <td>1.361947</td>\n",
       "      <td>-1.034708</td>\n",
       "    </tr>\n",
       "    <tr>\n",
       "      <th>9</th>\n",
       "      <td>0.136272</td>\n",
       "      <td>NaN</td>\n",
       "      <td>-0.077283</td>\n",
       "      <td>1.638049</td>\n",
       "      <td>1.695129</td>\n",
       "    </tr>\n",
       "    <tr>\n",
       "      <th>10</th>\n",
       "      <td>0.285787</td>\n",
       "      <td>-1.894139</td>\n",
       "      <td>-1.032451</td>\n",
       "      <td>NaN</td>\n",
       "      <td>0.418540</td>\n",
       "    </tr>\n",
       "    <tr>\n",
       "      <th>11</th>\n",
       "      <td>-0.214637</td>\n",
       "      <td>0.968143</td>\n",
       "      <td>-0.541815</td>\n",
       "      <td>-0.986822</td>\n",
       "      <td>0.368428</td>\n",
       "    </tr>\n",
       "    <tr>\n",
       "      <th>13</th>\n",
       "      <td>-0.790525</td>\n",
       "      <td>NaN</td>\n",
       "      <td>-0.950279</td>\n",
       "      <td>1.446046</td>\n",
       "      <td>-0.812967</td>\n",
       "    </tr>\n",
       "    <tr>\n",
       "      <th>14</th>\n",
       "      <td>-1.224560</td>\n",
       "      <td>-0.771225</td>\n",
       "      <td>-2.306126</td>\n",
       "      <td>NaN</td>\n",
       "      <td>-1.246993</td>\n",
       "    </tr>\n",
       "    <tr>\n",
       "      <th>15</th>\n",
       "      <td>-1.327476</td>\n",
       "      <td>0.808412</td>\n",
       "      <td>0.221662</td>\n",
       "      <td>-0.781614</td>\n",
       "      <td>1.610875</td>\n",
       "    </tr>\n",
       "    <tr>\n",
       "      <th>17</th>\n",
       "      <td>0.121353</td>\n",
       "      <td>0.725412</td>\n",
       "      <td>0.614657</td>\n",
       "      <td>0.699307</td>\n",
       "      <td>-0.213304</td>\n",
       "    </tr>\n",
       "    <tr>\n",
       "      <th>18</th>\n",
       "      <td>-0.583036</td>\n",
       "      <td>-0.531335</td>\n",
       "      <td>1.107067</td>\n",
       "      <td>-0.007803</td>\n",
       "      <td>-0.190654</td>\n",
       "    </tr>\n",
       "    <tr>\n",
       "      <th>19</th>\n",
       "      <td>-0.347767</td>\n",
       "      <td>1.960827</td>\n",
       "      <td>1.162072</td>\n",
       "      <td>0.061123</td>\n",
       "      <td>-0.206173</td>\n",
       "    </tr>\n",
       "  </tbody>\n",
       "</table>\n",
       "</div>"
      ],
      "text/plain": [
       "           0         1         2         3         4\n",
       "0  -0.759812  0.102513  0.724094  2.249054 -1.810513\n",
       "1   0.650468  0.239158 -1.002448 -0.725793  0.047743\n",
       "2   0.064070 -0.702113 -1.085077  2.952682 -0.080834\n",
       "3  -0.625974 -0.235528 -0.926395 -0.680645 -0.026904\n",
       "5  -1.160660       NaN  0.315040 -0.965889  0.004573\n",
       "6   1.289678 -1.349608  0.855155       NaN -1.164714\n",
       "7   0.848364 -0.157625 -1.285718  1.361947 -1.034708\n",
       "9   0.136272       NaN -0.077283  1.638049  1.695129\n",
       "10  0.285787 -1.894139 -1.032451       NaN  0.418540\n",
       "11 -0.214637  0.968143 -0.541815 -0.986822  0.368428\n",
       "13 -0.790525       NaN -0.950279  1.446046 -0.812967\n",
       "14 -1.224560 -0.771225 -2.306126       NaN -1.246993\n",
       "15 -1.327476  0.808412  0.221662 -0.781614  1.610875\n",
       "17  0.121353  0.725412  0.614657  0.699307 -0.213304\n",
       "18 -0.583036 -0.531335  1.107067 -0.007803 -0.190654\n",
       "19 -0.347767  1.960827  1.162072  0.061123 -0.206173"
      ]
     },
     "execution_count": 136,
     "metadata": {},
     "output_type": "execute_result"
    }
   ],
   "source": [
    "data = np.random.randn(100)\n",
    "a = np.linspace(20,80,10).astype('i1') #十等份20到80的整型数字\n",
    "for x in np.arange(10):\n",
    "    data[a[x]] = np.nan  #这些伪随机位置赋予nan\n",
    "data.resize(20,5) #resize直接改变原数据 reshape不改变\n",
    "b = pd.DataFrame(data)\n",
    "#查看哪些列含有多有nan\n",
    "c = b.isnull().sum(axis='index')\n",
    "#删掉0列含有nan的行\n",
    "b.dropna(subset=[0],inplace=True)\n",
    "b"
   ]
  },
  {
   "cell_type": "code",
   "execution_count": null,
   "metadata": {},
   "outputs": [],
   "source": []
  },
  {
   "cell_type": "code",
   "execution_count": null,
   "metadata": {},
   "outputs": [],
   "source": []
  },
  {
   "cell_type": "code",
   "execution_count": null,
   "metadata": {},
   "outputs": [],
   "source": []
  },
  {
   "cell_type": "code",
   "execution_count": null,
   "metadata": {},
   "outputs": [],
   "source": []
  },
  {
   "cell_type": "code",
   "execution_count": null,
   "metadata": {},
   "outputs": [],
   "source": []
  }
 ],
 "metadata": {
  "interpreter": {
   "hash": "aee8b7b246df8f9039afb4144a1f6fd8d2ca17a180786b69acc140d282b71a49"
  },
  "kernelspec": {
   "display_name": "Python 3.9.7 64-bit",
   "language": "python",
   "name": "python3"
  },
  "language_info": {
   "codemirror_mode": {
    "name": "ipython",
    "version": 3
   },
   "file_extension": ".py",
   "mimetype": "text/x-python",
   "name": "python",
   "nbconvert_exporter": "python",
   "pygments_lexer": "ipython3",
   "version": "3.9.7"
  },
  "orig_nbformat": 4
 },
 "nbformat": 4,
 "nbformat_minor": 2
}
