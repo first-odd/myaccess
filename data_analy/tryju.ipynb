{
 "cells": [
  {
   "cell_type": "markdown",
   "metadata": {},
   "source": [
    "vscode输出数据不是很方便，考虑之后的数据处理以及机器学习，使用jupyter方便些"
   ]
  },
  {
   "cell_type": "markdown",
   "metadata": {},
   "source": [
    "数据离散化、面元划分"
   ]
  },
  {
   "cell_type": "code",
   "execution_count": 26,
   "metadata": {},
   "outputs": [],
   "source": [
    "import numpy as np\n",
    "import pandas as pd"
   ]
  },
  {
   "cell_type": "code",
   "execution_count": 27,
   "metadata": {},
   "outputs": [
    {
     "data": {
      "text/plain": [
       "array([40, 28, 38, 19, 41, 41, 28, 34, 15, 45])"
      ]
     },
     "execution_count": 27,
     "metadata": {},
     "output_type": "execute_result"
    }
   ],
   "source": [
    "ages = np.random.randint(10,60,size=(10))\n",
    "ages"
   ]
  },
  {
   "cell_type": "code",
   "execution_count": 28,
   "metadata": {},
   "outputs": [],
   "source": [
    "#面元 bin\n",
    "bins = [10,25,35,40,60]"
   ]
  },
  {
   "cell_type": "code",
   "execution_count": 29,
   "metadata": {},
   "outputs": [
    {
     "data": {
      "text/plain": [
       "array([2, 1, 2, 0, 3, 3, 1, 1, 0, 3], dtype=int8)"
      ]
     },
     "execution_count": 29,
     "metadata": {},
     "output_type": "execute_result"
    }
   ],
   "source": [
    "cats = pd.cut(ages,bins)\n",
    "cats.codes #进行划分"
   ]
  },
  {
   "cell_type": "code",
   "execution_count": 30,
   "metadata": {},
   "outputs": [
    {
     "data": {
      "text/plain": [
       "IntervalIndex([(10, 25], (25, 35], (35, 40], (40, 60]], dtype='interval[int64, right]')"
      ]
     },
     "execution_count": 30,
     "metadata": {},
     "output_type": "execute_result"
    }
   ],
   "source": [
    "cats.categories"
   ]
  },
  {
   "cell_type": "code",
   "execution_count": 31,
   "metadata": {},
   "outputs": [
    {
     "data": {
      "text/plain": [
       "(25, 35]    3\n",
       "(40, 60]    3\n",
       "(10, 25]    2\n",
       "(35, 40]    2\n",
       "dtype: int64"
      ]
     },
     "execution_count": 31,
     "metadata": {},
     "output_type": "execute_result"
    }
   ],
   "source": [
    "pd.value_counts(cats)"
   ]
  },
  {
   "cell_type": "code",
   "execution_count": 32,
   "metadata": {},
   "outputs": [
    {
     "data": {
      "text/plain": [
       "[[40, 60), [25, 35), [35, 40), [10, 25), [40, 60), [40, 60), [25, 35), [25, 35), [10, 25), [40, 60)]\n",
       "Categories (4, interval[int64, left]): [[10, 25) < [25, 35) < [35, 40) < [40, 60)]"
      ]
     },
     "execution_count": 32,
     "metadata": {},
     "output_type": "execute_result"
    }
   ],
   "source": [
    "pd.cut(ages,[10,25,35,40,60],right=False)"
   ]
  },
  {
   "cell_type": "code",
   "execution_count": 33,
   "metadata": {},
   "outputs": [
    {
     "data": {
      "text/plain": [
       "['中年', '青年', '中年', '青少年', '中老年', '中老年', '青年', '青年', '青少年', '中老年']\n",
       "Categories (4, object): ['青少年' < '青年' < '中年' < '中老年']"
      ]
     },
     "execution_count": 33,
     "metadata": {},
     "output_type": "execute_result"
    }
   ],
   "source": [
    "bins = [10,25,35,40,60]\n",
    "kind = ['青少年','青年','中年','中老年']\n",
    "pd.cut(ages,bins,labels=kind) #给每个阶段贴标签kind"
   ]
  },
  {
   "cell_type": "code",
   "execution_count": 34,
   "metadata": {},
   "outputs": [
    {
     "data": {
      "text/plain": [
       "[(0.015, 0.26], (0.26, 0.5], (0.5, 0.75], (0.015, 0.26], (0.75, 0.99], ..., (0.015, 0.26], (0.75, 0.99], (0.26, 0.5], (0.015, 0.26], (0.015, 0.26]]\n",
       "Length: 20\n",
       "Categories (4, interval[float64, right]): [(0.015, 0.26] < (0.26, 0.5] < (0.5, 0.75] < (0.75, 0.99]]"
      ]
     },
     "execution_count": 34,
     "metadata": {},
     "output_type": "execute_result"
    }
   ],
   "source": [
    "data = np.random.rand(20)\n",
    "pd.cut(data,4,precision=2) #分成4份，小数保留2位"
   ]
  },
  {
   "cell_type": "code",
   "execution_count": 35,
   "metadata": {},
   "outputs": [
    {
     "data": {
      "text/plain": [
       "(-3.166, -0.637]    250\n",
       "(-0.637, 0.0456]    250\n",
       "(0.0456, 0.678]     250\n",
       "(0.678, 3.321]      250\n",
       "dtype: int64"
      ]
     },
     "execution_count": 35,
     "metadata": {},
     "output_type": "execute_result"
    }
   ],
   "source": [
    "#qcut 适用量划分\n",
    "data = np.random.randn(1000)\n",
    "cats = pd.qcut(data,4) #使用qcut划分 默认等比例 即等4份\n",
    "pd.value_counts(cats) #查看每组数量"
   ]
  },
  {
   "cell_type": "code",
   "execution_count": 40,
   "metadata": {},
   "outputs": [
    {
     "data": {
      "text/plain": [
       "(-1.232, 0.0456]    400\n",
       "(0.0456, 1.235]     400\n",
       "(-3.166, -1.232]    100\n",
       "dtype: int64"
      ]
     },
     "execution_count": 40,
     "metadata": {},
     "output_type": "execute_result"
    }
   ],
   "source": [
    "cats = pd.qcut(data,[0,0.1,0.5,0.9]) #按照区间比列划分数量\n",
    "pd.value_counts(cats)"
   ]
  },
  {
   "cell_type": "code",
   "execution_count": null,
   "metadata": {},
   "outputs": [],
   "source": []
  }
 ],
 "metadata": {
  "interpreter": {
   "hash": "aee8b7b246df8f9039afb4144a1f6fd8d2ca17a180786b69acc140d282b71a49"
  },
  "kernelspec": {
   "display_name": "Python 3.9.7 64-bit",
   "language": "python",
   "name": "python3"
  },
  "language_info": {
   "codemirror_mode": {
    "name": "ipython",
    "version": 3
   },
   "file_extension": ".py",
   "mimetype": "text/x-python",
   "name": "python",
   "nbconvert_exporter": "python",
   "pygments_lexer": "ipython3",
   "version": "3.9.7"
  },
  "orig_nbformat": 4
 },
 "nbformat": 4,
 "nbformat_minor": 2
}
