{
 "cells": [
  {
   "cell_type": "markdown",
   "metadata": {},
   "source": [
    "vscode输出数据不是很方便，考虑之后的数据处理以及机器学习，使用jupyter方便些"
   ]
  },
  {
   "cell_type": "markdown",
   "metadata": {},
   "source": [
    "数据离散化、面元划分"
   ]
  },
  {
   "cell_type": "code",
   "execution_count": null,
   "metadata": {},
   "outputs": [],
   "source": [
    "import numpy as np\n",
    "import pandas as pd\n",
    "import re"
   ]
  },
  {
   "cell_type": "code",
   "execution_count": null,
   "metadata": {},
   "outputs": [],
   "source": [
    "ages = np.random.randint(10,60,size=(10))\n",
    "ages"
   ]
  },
  {
   "cell_type": "code",
   "execution_count": null,
   "metadata": {},
   "outputs": [],
   "source": [
    "#面元 bin\n",
    "bins = [10,25,35,40,60]"
   ]
  },
  {
   "cell_type": "code",
   "execution_count": null,
   "metadata": {},
   "outputs": [],
   "source": [
    "cats = pd.cut(ages,bins)\n",
    "cats.codes #进行划分"
   ]
  },
  {
   "cell_type": "code",
   "execution_count": null,
   "metadata": {},
   "outputs": [],
   "source": [
    "cats.categories"
   ]
  },
  {
   "cell_type": "code",
   "execution_count": null,
   "metadata": {},
   "outputs": [],
   "source": [
    "pd.value_counts(cats)"
   ]
  },
  {
   "cell_type": "code",
   "execution_count": null,
   "metadata": {},
   "outputs": [],
   "source": [
    "pd.cut(ages,[10,25,35,40,60],right=False)"
   ]
  },
  {
   "cell_type": "code",
   "execution_count": null,
   "metadata": {},
   "outputs": [],
   "source": [
    "bins = [10,25,35,40,60]\n",
    "kind = ['青少年','青年','中年','中老年']\n",
    "pd.cut(ages,bins,labels=kind) #给每个阶段贴标签kind"
   ]
  },
  {
   "cell_type": "code",
   "execution_count": null,
   "metadata": {},
   "outputs": [],
   "source": [
    "data = np.random.rand(20)\n",
    "pd.cut(data,4,precision=2) #分成4份，小数保留2位"
   ]
  },
  {
   "cell_type": "code",
   "execution_count": null,
   "metadata": {},
   "outputs": [],
   "source": [
    "#qcut 适用量划分\n",
    "data = np.random.randn(1000)\n",
    "cats = pd.qcut(data,4) #使用qcut划分 默认等比例 即等4份\n",
    "pd.value_counts(cats) #查看每组数量"
   ]
  },
  {
   "cell_type": "code",
   "execution_count": null,
   "metadata": {},
   "outputs": [],
   "source": [
    "cats = pd.qcut(data,[0,0.1,0.5,0.9]) #按照区间比列划分数量\n",
    "pd.value_counts(cats)"
   ]
  },
  {
   "cell_type": "code",
   "execution_count": null,
   "metadata": {},
   "outputs": [],
   "source": [
    "data = pd.DataFrame(np.random.random(20).reshape(5,4))\n",
    "data"
   ]
  },
  {
   "cell_type": "code",
   "execution_count": null,
   "metadata": {},
   "outputs": [],
   "source": [
    "sam = np.random.permutation(5) #新顺序\n",
    "sam"
   ]
  },
  {
   "cell_type": "code",
   "execution_count": null,
   "metadata": {},
   "outputs": [],
   "source": [
    "data.take(sam)"
   ]
  },
  {
   "cell_type": "code",
   "execution_count": null,
   "metadata": {},
   "outputs": [],
   "source": [
    "data.sample(3) #随机选择3行"
   ]
  },
  {
   "cell_type": "code",
   "execution_count": null,
   "metadata": {},
   "outputs": [],
   "source": [
    "ch = pd.Series([5,7,6,3,2])\n",
    "ch"
   ]
  },
  {
   "cell_type": "code",
   "execution_count": null,
   "metadata": {},
   "outputs": [],
   "source": [
    "ch.sample(n=10,replace=True) #从ch随机选择10个，可以重复选择\n"
   ]
  },
  {
   "cell_type": "markdown",
   "metadata": {},
   "source": [
    "字符串对象方法"
   ]
  },
  {
   "cell_type": "code",
   "execution_count": null,
   "metadata": {},
   "outputs": [],
   "source": [
    "var = 'a,b, c'\n",
    "var.split(',') #逗号分隔"
   ]
  },
  {
   "cell_type": "code",
   "execution_count": null,
   "metadata": {},
   "outputs": [],
   "source": [
    "p = [x.strip() for x in var.split(',')] #   去除空白符，包括\\n\n",
    "p"
   ]
  },
  {
   "cell_type": "code",
   "execution_count": null,
   "metadata": {},
   "outputs": [],
   "source": [
    "'::'.join(p) #使用：：拼接\n",
    "var.replace(',','::')"
   ]
  },
  {
   "cell_type": "code",
   "execution_count": null,
   "metadata": {},
   "outputs": [],
   "source": [
    "#寻找index\n",
    "var.find('a')#不存在时返回-1\n",
    "var.index('b')#不存在时报错"
   ]
  },
  {
   "cell_type": "code",
   "execution_count": null,
   "metadata": {},
   "outputs": [],
   "source": [
    "text = \"foo bar\\t bat \\tgg\"\n",
    "re.split('\\s+',text) #以空白或者制表符\\t当作分隔符"
   ]
  },
  {
   "cell_type": "code",
   "execution_count": null,
   "metadata": {},
   "outputs": [],
   "source": [
    "res = re.compile('\\s+') #res能够编译\\s+\n",
    "res.split(text) #用res的编译能力分割text"
   ]
  },
  {
   "cell_type": "code",
   "execution_count": null,
   "metadata": {},
   "outputs": [],
   "source": [
    "re.split(res,text) #利用res作为分隔条件来分割text 和上一个cell效果一样"
   ]
  },
  {
   "cell_type": "code",
   "execution_count": null,
   "metadata": {},
   "outputs": [],
   "source": [
    "res.findall(text)\n",
    "re.findall(res,text) #效果一样"
   ]
  },
  {
   "cell_type": "code",
   "execution_count": null,
   "metadata": {},
   "outputs": [],
   "source": [
    "re.sub(res,'9',text)#在text中替换符合res的值为9"
   ]
  },
  {
   "cell_type": "code",
   "execution_count": null,
   "metadata": {},
   "outputs": [],
   "source": [
    "text.replace('\\s+','9')#这种方法不能编译\\s+"
   ]
  },
  {
   "cell_type": "code",
   "execution_count": null,
   "metadata": {},
   "outputs": [],
   "source": [
    "data = np.random.randn(100)\n",
    "a = np.linspace(20,80,10).astype('i1') #十等份20到80的整型数字\n",
    "for x in np.arange(10):\n",
    "    data[a[x]] = np.nan  #这些伪随机位置赋予nan\n",
    "data.resize(20,5) #resize直接改变原数据 reshape不改变\n",
    "b = pd.DataFrame(data)\n",
    "#查看哪些列含有多有nan\n",
    "c = b.isnull().sum(axis='index')\n",
    "#删掉0列含有nan的行\n",
    "b.dropna(subset=[0],inplace=True)\n",
    "b"
   ]
  },
  {
   "cell_type": "markdown",
   "metadata": {},
   "source": [
    "merge 数据合并    \n",
    "np.concatenate    \n",
    "pd.concat    \n",
    "join"
   ]
  },
  {
   "cell_type": "code",
   "execution_count": null,
   "metadata": {},
   "outputs": [],
   "source": [
    "l = {'a':[1,2,3,4],'b':[5,4,4,5],'key':['张三','王四','赵四','刘八']}\n",
    "r = {'c':[666,7,666,444],'d':[533,214,224,675],'key':['张三','王四','赵四','刘']}\n",
    "left = pd.DataFrame(l)\n",
    "right = pd.DataFrame(r)\n",
    "print(left)\n",
    "print(right)"
   ]
  },
  {
   "cell_type": "code",
   "execution_count": null,
   "metadata": {},
   "outputs": [],
   "source": [
    "pd.merge(left,right,on='key',how='outer')\n",
    " #默认内连接how='inner':如果value相同保留，不相同的全部删除。指定链接key,指定左连接how=xxx，右边不存在的key值作nan\n",
    " #suffixes ：增加后缀，方便看"
   ]
  },
  {
   "cell_type": "code",
   "execution_count": null,
   "metadata": {},
   "outputs": [],
   "source": [
    "left2 = pd.DataFrame({'英语':[1,4,5],'数学':[2,5,3]},index=['a','c','e'])\n",
    "right2 = pd.DataFrame({'语文':[4,5,7],'地理':[5,7,8]},index=['c','f','b'])"
   ]
  },
  {
   "cell_type": "code",
   "execution_count": null,
   "metadata": {},
   "outputs": [],
   "source": [
    "pd.merge(left2,right2,how='outer',left_index=True,right_index=True)"
   ]
  },
  {
   "cell_type": "code",
   "execution_count": null,
   "metadata": {},
   "outputs": [],
   "source": [
    "a = left2.join(right2,how='outer')\n",
    "#和上一cell相同效果\n",
    "#join方法不能出现相同列名"
   ]
  },
  {
   "cell_type": "code",
   "execution_count": null,
   "metadata": {},
   "outputs": [],
   "source": [
    "a"
   ]
  },
  {
   "cell_type": "code",
   "execution_count": null,
   "metadata": {},
   "outputs": [],
   "source": [
    "#斗胆有个想法，我知道肯定有人在做，但肯定更多的人失败了\n",
    "#有一些自己的想法\n",
    "#如果采用拟合算法进行机器学习，自己输出代码，岂不是很好吗，采用决策树，来决定输出，首先要有一个很强的代码库，我很愿意做这个\n",
    "#重复造轮子我们避免不了，但是至少也要重复造更大的轮子吧！"
   ]
  },
  {
   "cell_type": "code",
   "execution_count": null,
   "metadata": {},
   "outputs": [],
   "source": []
  },
  {
   "cell_type": "code",
   "execution_count": null,
   "metadata": {},
   "outputs": [],
   "source": []
  }
 ],
 "metadata": {
  "interpreter": {
   "hash": "aee8b7b246df8f9039afb4144a1f6fd8d2ca17a180786b69acc140d282b71a49"
  },
  "kernelspec": {
   "display_name": "Python 3.9.7 64-bit",
   "language": "python",
   "name": "python3"
  },
  "language_info": {
   "codemirror_mode": {
    "name": "ipython",
    "version": 3
   },
   "file_extension": ".py",
   "mimetype": "text/x-python",
   "name": "python",
   "nbconvert_exporter": "python",
   "pygments_lexer": "ipython3",
   "version": "3.9.7"
  },
  "orig_nbformat": 4
 },
 "nbformat": 4,
 "nbformat_minor": 2
}
